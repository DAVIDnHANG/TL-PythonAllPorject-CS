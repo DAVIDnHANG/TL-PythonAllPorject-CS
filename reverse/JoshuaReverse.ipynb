{
 "cells": [
  {
   "cell_type": "code",
   "execution_count": null,
   "metadata": {
    "collapsed": true
   },
   "outputs": [],
   "source": [
    "class Node:\n",
    "    def __init__(self, value=None, next_node=None):\n",
    "        self.value = value\n",
    "        self.next_node = next_node\n",
    "\n",
    "    def get_value(self):\n",
    "        return self.value\n",
    "\n",
    "    def get_next(self):\n",
    "        return self.next_node\n",
    "\n",
    "    def set_next(self, new_next):\n",
    "        self.next_node = new_next\n",
    "\n",
    "class LinkedList:\n",
    "    def __init__(self):\n",
    "        self.head = None\n",
    "\n",
    "    def add_to_head(self, value):\n",
    "        node = Node(value)\n",
    "\n",
    "        if self.head is not None:\n",
    "            node.set_next(self.head)\n",
    "\n",
    "        self.head = node\n",
    "\n",
    "    def contains(self, value):\n",
    "        if not self.head:\n",
    "            return False\n",
    "\n",
    "        current = self.head\n",
    "\n",
    "        while current:\n",
    "            if current.get_value() == value:\n",
    "                return True\n",
    "\n",
    "            current = current.get_next()\n",
    "\n",
    "        return False\n",
    "\n",
    "    def reverse_list(self, node, prev):\n",
    "        if node == None:\n",
    "            return None\n",
    "\n",
    "        if node.next_node == None:\n",
    "            self.head = node\n",
    "            node.set_next(prev)\n",
    "            return\n",
    "\n",
    "        rlh = self.reverse_list(node.next_node, node)\n",
    "        node.next_node.next_node = node\n",
    "        node.next_node = None\n",
    "        return rlh\n"
   ]
  }
 ],
 "metadata": {
  "kernelspec": {
   "display_name": "Python 3",
   "language": "python",
   "name": "python3"
  },
  "language_info": {
   "codemirror_mode": {
    "name": "ipython",
    "version": 2
   },
   "file_extension": ".py",
   "mimetype": "text/x-python",
   "name": "python",
   "nbconvert_exporter": "python",
   "pygments_lexer": "ipython2",
   "version": "2.7.6"
  },
  "pycharm": {
   "stem_cell": {
    "cell_type": "raw",
    "source": [],
    "metadata": {
     "collapsed": false
    }
   }
  }
 },
 "nbformat": 4,
 "nbformat_minor": 0
}